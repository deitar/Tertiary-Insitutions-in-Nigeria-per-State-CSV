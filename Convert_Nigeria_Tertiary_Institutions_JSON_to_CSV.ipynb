{
  "nbformat": 4,
  "nbformat_minor": 0,
  "metadata": {
    "colab": {
      "provenance": [],
      "authorship_tag": "ABX9TyNu3CrjBZb/sdygElUjec01"
    },
    "kernelspec": {
      "name": "python3",
      "display_name": "Python 3"
    },
    "language_info": {
      "name": "python"
    }
  },
  "cells": [
    {
      "cell_type": "code",
      "execution_count": null,
      "metadata": {
        "id": "2zk_P7n5SL8i"
      },
      "outputs": [],
      "source": []
    },
    {
      "cell_type": "code",
      "source": [
        "import requests\n",
        "import pandas as pd"
      ],
      "metadata": {
        "id": "7eiO2QLvSjSK"
      },
      "execution_count": 60,
      "outputs": []
    },
    {
      "cell_type": "code",
      "source": [
        "# import the raw json data\n",
        "\n",
        "# if the link is no longer active, you can get the replica data in this GitHub repository\n",
        "url = \"https://raw.githubusercontent.com/bc2mighty/tertiary-institutions-in-Nigeria-per-state/master/states.json\"\n",
        "\n",
        "response = requests.get(url)\n",
        "response.raise_for_status()  # Raise an HTTPError for bad responses (4xx or 5xx)\n",
        "\n",
        "schools_json = response.json()"
      ],
      "metadata": {
        "id": "FY4hJPYYSSUz"
      },
      "execution_count": 61,
      "outputs": []
    },
    {
      "cell_type": "code",
      "source": [
        "# convert json to list of tuples\n",
        "all_schools = []\n",
        "for state in schools_json:\n",
        "    schools = [(k,_v) for k, v in state.items() for _v in v.values()]\n",
        "    all_schools += schools"
      ],
      "metadata": {
        "id": "9rhMTpLsSvWN"
      },
      "execution_count": 62,
      "outputs": []
    },
    {
      "cell_type": "code",
      "source": [
        "# convert the list of tuples to a datafreame and write to csv in current working directory\n",
        "pd.DataFrame(all_schools, columns=['State', 'School']).to_csv('tertiary-institutions-in-Nigeria-per-state.csv', index=False)"
      ],
      "metadata": {
        "id": "WIj5ElcpSvb8"
      },
      "execution_count": 63,
      "outputs": []
    },
    {
      "cell_type": "code",
      "source": [],
      "metadata": {
        "id": "8ztxp80VVubS"
      },
      "execution_count": null,
      "outputs": []
    },
    {
      "cell_type": "code",
      "source": [],
      "metadata": {
        "id": "mrwvdfCaVuY3"
      },
      "execution_count": null,
      "outputs": []
    },
    {
      "cell_type": "code",
      "source": [],
      "metadata": {
        "id": "flM8a8RnVuWc"
      },
      "execution_count": null,
      "outputs": []
    }
  ]
}